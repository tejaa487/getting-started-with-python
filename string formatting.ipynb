{
 "cells": [
  {
   "cell_type": "markdown",
   "metadata": {},
   "source": [
    "# string formatting\n",
    "1. formatting with place holders (using %), [old method]\n",
    "2.  .format() method, [new method]\n",
    "3. f-strings, [advanced method]"
   ]
  },
  {
   "cell_type": "markdown",
   "metadata": {},
   "source": [
    "## 1. Formatting with place holders"
   ]
  },
  {
   "cell_type": "code",
   "execution_count": 2,
   "metadata": {},
   "outputs": [
    {
     "name": "stdout",
     "output_type": "stream",
     "text": [
      "I'll inject something here.\n"
     ]
    }
   ],
   "source": [
    "print(\"I'll inject %s here.\" %'something')"
   ]
  },
  {
   "cell_type": "code",
   "execution_count": 5,
   "metadata": {},
   "outputs": [
    {
     "name": "stdout",
     "output_type": "stream",
     "text": [
      "hello nik! what would sony like to have?\n"
     ]
    }
   ],
   "source": [
    "print(\"hello %s! what would %s like to have?\"%('nik','sony'))"
   ]
  },
  {
   "cell_type": "code",
   "execution_count": 12,
   "metadata": {},
   "outputs": [
    {
     "name": "stdout",
     "output_type": "stream",
     "text": [
      "did you get my botany and chemistry books?\n"
     ]
    }
   ],
   "source": [
    "x,y='botany','chemistry'\n",
    "print(\"did you get my %s and %s books?\"%(x,y))"
   ]
  },
  {
   "cell_type": "code",
   "execution_count": 22,
   "metadata": {},
   "outputs": [
    {
     "name": "stdout",
     "output_type": "stream",
     "text": [
      "hello!dheeru.\n",
      "hello!'dheeru'.\n"
     ]
    }
   ],
   "source": [
    "print(\"hello!%s.\"%'dheeru') #difference between %s and %r\n",
    "print(\"hello!%r.\"%'dheeru')"
   ]
  },
  {
   "cell_type": "code",
   "execution_count": 16,
   "metadata": {},
   "outputs": [],
   "source": [
    "#using \\t space"
   ]
  },
  {
   "cell_type": "code",
   "execution_count": 20,
   "metadata": {},
   "outputs": [
    {
     "name": "stdout",
     "output_type": "stream",
     "text": [
      "The hat is..this\t big.\n",
      "the hat is..'this\\t big'.\n"
     ]
    }
   ],
   "source": [
    "print(\"The hat is..%s.\"%\"this\\t big\")\n",
    "print(\"the hat is..%r.\"%\"this\\t big\")"
   ]
  },
  {
   "cell_type": "code",
   "execution_count": 23,
   "metadata": {},
   "outputs": [
    {
     "name": "stdout",
     "output_type": "stream",
     "text": [
      "I've scored 8.324 CGPA.\n",
      "I've scored 8 CGPA.\n"
     ]
    }
   ],
   "source": [
    "print(\"I've scored %s CGPA.\"%8.324)\n",
    "print(\"I've scored %d CGPA.\"%8.324)"
   ]
  },
  {
   "cell_type": "code",
   "execution_count": 24,
   "metadata": {},
   "outputs": [
    {
     "name": "stdout",
     "output_type": "stream",
     "text": [
      "the final result is 23.457.\n"
     ]
    }
   ],
   "source": [
    "print(\"the final result is %2.3f.\"%23.4567)"
   ]
  },
  {
   "cell_type": "code",
   "execution_count": 25,
   "metadata": {},
   "outputs": [
    {
     "name": "stdout",
     "output_type": "stream",
     "text": [
      "the final result id   24.78900.\n"
     ]
    }
   ],
   "source": [
    "print(\"the final result id %10.5f.\"%24.789)"
   ]
  },
  {
   "cell_type": "markdown",
   "metadata": {},
   "source": [
    "### Multiple formatting"
   ]
  },
  {
   "cell_type": "code",
   "execution_count": 29,
   "metadata": {},
   "outputs": [
    {
     "name": "stdout",
     "output_type": "stream",
     "text": [
      "The things I want to print are: teja, 'teja', 33, 34.79, I'm this \t far away using tab space.\n"
     ]
    }
   ],
   "source": [
    "print(\"The things I want to print are: %s, %r, %d, %5.2f, %s using tab space.\"%('teja',\"teja\",33.6,34.789,\"I'm this \\t far away\"))"
   ]
  },
  {
   "cell_type": "markdown",
   "metadata": {},
   "source": [
    "## 2. .format() method"
   ]
  },
  {
   "cell_type": "code",
   "execution_count": 30,
   "metadata": {},
   "outputs": [
    {
     "name": "stdout",
     "output_type": "stream",
     "text": [
      "insert me....\n"
     ]
    }
   ],
   "source": [
    "print(\"{} me....\".format('insert'))"
   ]
  },
  {
   "cell_type": "markdown",
   "metadata": {},
   "source": [
    "### advantages of .format() method over placeholders"
   ]
  },
  {
   "cell_type": "markdown",
   "metadata": {},
   "source": [
    "#### 1.calling by index"
   ]
  },
  {
   "cell_type": "code",
   "execution_count": null,
   "metadata": {},
   "outputs": [],
   "source": []
  }
 ],
 "metadata": {
  "kernelspec": {
   "display_name": "Python 3",
   "language": "python",
   "name": "python3"
  },
  "language_info": {
   "codemirror_mode": {
    "name": "ipython",
    "version": 3
   },
   "file_extension": ".py",
   "mimetype": "text/x-python",
   "name": "python",
   "nbconvert_exporter": "python",
   "pygments_lexer": "ipython3",
   "version": "3.7.6"
  }
 },
 "nbformat": 4,
 "nbformat_minor": 4
}
